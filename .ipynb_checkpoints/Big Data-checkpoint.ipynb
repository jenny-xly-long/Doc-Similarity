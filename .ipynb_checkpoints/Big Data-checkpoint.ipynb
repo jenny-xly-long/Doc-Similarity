{
 "cells": [
  {
   "cell_type": "code",
   "execution_count": null,
   "metadata": {},
   "outputs": [],
   "source": [
    "import gensim.downloader as api\n",
    "model = api.load(\"glove-twitter-25\")"
   ]
  },
  {
   "cell_type": "code",
   "execution_count": 436,
   "metadata": {},
   "outputs": [],
   "source": [
    "import pandas as pd\n",
    "from sklearn.model_selection import train_test_split\n",
    "from gensim.models.doc2vec import Doc2Vec, TaggedDocument\n",
    "from nltk.tokenize import word_tokenize\n",
    "from nltk.corpus import stopwords\n",
    "import re\n",
    "import numpy as np\n",
    "import spacy\n",
    "from tqdm import tqdm\n",
    "import math"
   ]
  },
  {
   "cell_type": "code",
   "execution_count": 3,
   "metadata": {},
   "outputs": [],
   "source": [
    "stwords = stopwords.words('english')\n",
    "from nltk.stem import WordNetLemmatizer \n",
    "  \n",
    "lemmatizer = WordNetLemmatizer()\n",
    "def preprocessing(series):\n",
    "    \n",
    "    REPLACE_NO_SPACE = re.compile(\"(\\&)|(\\.)|(\\;)|(\\:)|(\\!)|(\\')|(\\?)|(\\,)|(\\\")|(\\()|(\\))|(\\[)|(\\])\")\n",
    "    REPLACE_WITH_SPACE = re.compile(\"(<br\\s*/><br\\s*/>)|(\\-)|(\\/)\")\n",
    "    processed = [REPLACE_NO_SPACE.sub(\"\", text) for text in series]\n",
    "    processed = [REPLACE_WITH_SPACE.sub(\" \", text) for text in processed]\n",
    "    \n",
    "    url = re.compile(r'http\\S+')\n",
    "    processed = [url.sub(\"URL.\", text) for text in processed]\n",
    "    processed_sent = []\n",
    "    for p in processed:\n",
    "        processed_sent.append(' '.join(w for w in p.lower().split() if w not in stwords))\n",
    "\n",
    "    return processed_sent\n",
    "    \n",
    "    "
   ]
  },
  {
   "cell_type": "markdown",
   "metadata": {},
   "source": [
    "# Dataset - Paragraph - Sent"
   ]
  },
  {
   "cell_type": "code",
   "execution_count": 4,
   "metadata": {},
   "outputs": [],
   "source": [
    "data1 = pd.read_csv(\"data/training/paragraph2sentence_train_input.tsv\", sep='\\t', header = None)\n",
    "data2 = pd.read_csv(\"data/test/paragraph2sentence.test.input.tsv\", sep='\\t', header = None)\n",
    "data3 = pd.read_csv(\"data/trial/paragraph2sentence.trial.input.tsv\", sep = '\\t', header = None)\n",
    "\n",
    "data = pd.concat([data1, data2, data3], ignore_index = True)\n",
    "\n",
    "\n",
    "key1 = pd.read_csv(\"keys/training/paragraph2sentence.train.gs.tsv\", sep = '\\t', header = None)\n",
    "key2 = pd.read_csv(\"keys/test/paragraph2sentence.test.gs.tsv\", sep = '\\t', header = None)\n",
    "key3 = pd.read_csv(\"keys/trial/paragraph2sentence.trial.gs.tsv\", sep = '\\t', header = None)\n",
    "\n",
    "ground_truth = pd.concat([key1, key2, key3], ignore_index = True)\n",
    "\n",
    "docs = pd.concat([data[0], data[1]],ignore_index=True)\n",
    "docs_half = data[0] \n",
    "query = data[1] \n",
    "\n",
    "processed_docs_half = preprocessing(docs_half)\n",
    "processed_query = preprocessing(query)\n",
    "processed_docs = preprocessing(docs)"
   ]
  },
  {
   "cell_type": "markdown",
   "metadata": {},
   "source": [
    "# Dataset - Sent - Phrase"
   ]
  },
  {
   "cell_type": "code",
   "execution_count": 192,
   "metadata": {},
   "outputs": [],
   "source": [
    "data1 = pd.read_csv(\"data/training/sentence2phrase.train.input.tsv\", sep='\\t', header = None)\n",
    "data2 = pd.read_csv(\"data/test/sentence2phrase.test.input.tsv\", sep='\\t', header = None)\n",
    "data3 = pd.read_csv(\"data/trial/sentence2phrase.trial.input.tsv\", sep='\\t', header = None)\n",
    "\n",
    "\n",
    "data = pd.concat([data1, data2, data3], ignore_index = True)\n",
    "\n",
    "key1 = pd.read_csv(\"keys/training/sentence2phrase.train.gs.tsv\", sep='\\t', header = None)\n",
    "key2 = pd.read_csv(\"keys/test/sentence2phrase.test.gs.tsv\", sep='\\t', header = None)\n",
    "key3 = pd.read_csv(\"keys/trial/sentence2phrase.trial.gs.tsv\", sep='\\t', header = None)\n",
    "\n",
    "ground_truth = pd.concat([key1, key2, key3], ignore_index = True)\n",
    "\n",
    "\n",
    "docs = pd.concat([data[0], data[1]],ignore_index=True)\n",
    "docs_half = data[0] \n",
    "query = data[1] \n",
    "\n",
    "processed_docs_half = preprocessing(docs_half)\n",
    "processed_query = preprocessing(query)\n",
    "processed_docs = preprocessing(docs)"
   ]
  },
  {
   "cell_type": "markdown",
   "metadata": {},
   "source": [
    "# Dataset Phrase - Word"
   ]
  },
  {
   "cell_type": "code",
   "execution_count": 470,
   "metadata": {},
   "outputs": [],
   "source": [
    "data1 = pd.read_csv(\"data/training/phrase2word.train.input.tsv\", sep='\\t', header = None)\n",
    "data2 = pd.read_csv(\"data/test/phrase2word.test.input.tsv\", sep='\\t', header = None)\n",
    "data3 = pd.read_csv(\"data/trial/phrase2word.trial.input.tsv\", sep = '\\t', header = None)\n",
    "\n",
    "data = pd.concat([data1, data2, data3], ignore_index = True)\n",
    "data = data.drop([84,708])\n",
    "\n",
    "\n",
    "\n",
    "key1 = pd.read_csv(\"keys/training/phrase2word.train.gs.tsv\", sep = '\\t', header = None)\n",
    "key2 = pd.read_csv(\"keys/test/phrase2word.test.gs.tsv\", sep = '\\t', header = None)\n",
    "key3 = pd.read_csv(\"keys/trial/phrase2word.trial.gs.tsv\", sep = '\\t', header = None)\n",
    "\n",
    "ground_truth = pd.concat([key1, key2, key3], ignore_index = True)\n",
    "ground_truth = ground_truth.drop([84,708])\n",
    "\n",
    "docs = pd.concat([data[0], data[1]],ignore_index=True)\n",
    "docs_half = data[0] \n",
    "query = data[1] \n",
    "\n",
    "processed_docs_half = preprocessing(docs_half)\n",
    "processed_query = preprocessing(query)\n",
    "processed_docs = preprocessing(docs)"
   ]
  },
  {
   "cell_type": "markdown",
   "metadata": {},
   "source": [
    "# Get Doc/Sentence vector by averaging its word embeddings"
   ]
  },
  {
   "cell_type": "code",
   "execution_count": 471,
   "metadata": {},
   "outputs": [],
   "source": [
    "wordvecs = []\n",
    "for doc in processed_docs:\n",
    "    wordvecs.append([model[word] if word in model else np.zeros(25) for word in doc.split()])"
   ]
  },
  {
   "cell_type": "code",
   "execution_count": 472,
   "metadata": {},
   "outputs": [],
   "source": [
    "sentvecs = []\n",
    "for i in range(len(wordvecs)):\n",
    "    sentvecs.append(np.mean(wordvecs[i], axis = 0))"
   ]
  },
  {
   "cell_type": "markdown",
   "metadata": {},
   "source": [
    "# Cosine"
   ]
  },
  {
   "cell_type": "code",
   "execution_count": 473,
   "metadata": {},
   "outputs": [],
   "source": [
    "from scipy import spatial\n",
    "cos_sim = []\n",
    "for i in range(len(processed_docs_half)):\n",
    "\n",
    "    cos_sim.append(1-spatial.distance.cosine(sentvecs[i], sentvecs[i+len(data)]))\n"
   ]
  },
  {
   "cell_type": "markdown",
   "metadata": {},
   "source": [
    "# Word-Mover-Distance Based Similarity"
   ]
  },
  {
   "cell_type": "code",
   "execution_count": 474,
   "metadata": {},
   "outputs": [],
   "source": [
    "wmd = []\n",
    "model.init_sims(replace=True)  # Normalizes the vectors in the word2vec class.\n",
    "\n",
    "for i in range(len(processed_docs_half)):\n",
    "    wmd.append(model.wmdistance(processed_docs_half[i].split(), processed_query[i].split()))  # Compute WMD as normal.\n",
    "\n"
   ]
  },
  {
   "cell_type": "code",
   "execution_count": 475,
   "metadata": {},
   "outputs": [],
   "source": [
    "wmd = np.array(wmd)\n",
    "wmd_sim = 1./(1.+ wmd)"
   ]
  },
  {
   "cell_type": "markdown",
   "metadata": {},
   "source": [
    "# Fuzzy-Match Jaccard Similarity"
   ]
  },
  {
   "cell_type": "code",
   "execution_count": 476,
   "metadata": {},
   "outputs": [],
   "source": [
    "query_token = [q.split() for q in processed_query]"
   ]
  },
  {
   "cell_type": "code",
   "execution_count": 536,
   "metadata": {
    "scrolled": true
   },
   "outputs": [],
   "source": [
    "Qset = []\n",
    "\n",
    "for i in range(len(query_token)):\n",
    "    tkn = query_token[i]\n",
    "    q = []\n",
    "    for t in query_token[i]:\n",
    "        try:\n",
    "            q.extend(model.most_similar(positive = [t], topn=20))\n",
    "        except KeyError as e:\n",
    "            result = re.search(\"\\'(.*)\\'\", str(e))\n",
    "            oov = result.group(1)\n",
    "    for t in tkn:\n",
    "        q.append((t,1))\n",
    "    Qset.append(q)"
   ]
  },
  {
   "cell_type": "code",
   "execution_count": 537,
   "metadata": {},
   "outputs": [],
   "source": [
    "import numpy as np\n",
    "\n",
    "similarity = {}\n",
    "p = [0.1,0.2,0.3,0.4,0.5,0.6,0.7,0.8,0.9,1]\n",
    "ind = []\n",
    "\n",
    "for j in range(len(p)):\n",
    "    sim = []\n",
    "    for i in range(len(Qset)):\n",
    "        qt = processed_query[i].split()\n",
    "        nn_lst = [tup[0] for tup in Qset[i]]\n",
    "\n",
    "        processed_tokens = processed_docs_half[i].split()\n",
    "        qt.extend(processed_tokens)\n",
    "        unionlen = len(set(qt))\n",
    "        intersection_len = len(list(set(nn_lst) & set(processed_tokens)))\n",
    "        if len(processed_tokens) != 0:\n",
    "            sim.append(intersection_len/ (unionlen)**p[j])\n",
    "        \n",
    "        else:\n",
    "            ind.append(i)\n",
    "    similarity[j] = sim"
   ]
  },
  {
   "cell_type": "markdown",
   "metadata": {},
   "source": [
    "# Calculate standard jaccard similarity"
   ]
  },
  {
   "cell_type": "code",
   "execution_count": 479,
   "metadata": {},
   "outputs": [],
   "source": [
    "\n",
    "std_jaccard = []\n",
    "for i in range(len(processed_docs_half)):\n",
    "    query_tokens = processed_query[i].split()\n",
    "    processed_tokens = processed_docs_half[i].split()\n",
    "\n",
    "    query_tokens.extend(processed_tokens)\n",
    "    intersection_len = len(list(set(query_tokens) & set(processed_tokens)))\n",
    "    union_len = len(list(set(query_tokens)))\n",
    "    std_jaccard.append(intersection_len/union_len)\n",
    "     "
   ]
  },
  {
   "cell_type": "markdown",
   "metadata": {},
   "source": [
    "# Result"
   ]
  },
  {
   "cell_type": "code",
   "execution_count": 480,
   "metadata": {},
   "outputs": [],
   "source": [
    "ground_truth[0] = (ground_truth[0] - min(ground_truth[0])) / (max(ground_truth[0]) - min(ground_truth[0]))"
   ]
  },
  {
   "cell_type": "code",
   "execution_count": 584,
   "metadata": {},
   "outputs": [],
   "source": [
    "ground_truth['cosine'] = cos_sim\n",
    "ground_truth['wmd_sim'] = wmd_sim\n",
    "ground_truth['fuzzy_match'] = similarity[9]\n",
    "ground_truth['std_jaccard'] = std_jaccard\n"
   ]
  },
  {
   "cell_type": "code",
   "execution_count": 585,
   "metadata": {},
   "outputs": [],
   "source": [
    "ground_truth['fuzzy_match'] = (ground_truth['fuzzy_match'] - min(ground_truth['fuzzy_match'])) / (max(ground_truth['fuzzy_match']) - min(ground_truth['fuzzy_match']))"
   ]
  },
  {
   "cell_type": "code",
   "execution_count": 586,
   "metadata": {
    "scrolled": true
   },
   "outputs": [],
   "source": [
    "normalized_df= ground_truth "
   ]
  },
  {
   "cell_type": "code",
   "execution_count": 587,
   "metadata": {},
   "outputs": [],
   "source": [
    "n = normalized_df.shape[1]"
   ]
  },
  {
   "cell_type": "code",
   "execution_count": 588,
   "metadata": {},
   "outputs": [],
   "source": [
    "phrase_word_top20_mse.append(sum((normalized_df[0] - normalized_df['fuzzy_match'])**2) / n)"
   ]
  },
  {
   "cell_type": "code",
   "execution_count": 487,
   "metadata": {},
   "outputs": [
    {
     "data": {
      "text/plain": [
       "44.350680950718115"
      ]
     },
     "execution_count": 487,
     "metadata": {},
     "output_type": "execute_result"
    }
   ],
   "source": [
    "sum((normalized_df[0] - normalized_df['std_jaccard'])**2) / n"
   ]
  },
  {
   "cell_type": "code",
   "execution_count": 488,
   "metadata": {},
   "outputs": [
    {
     "data": {
      "text/plain": [
       "nan"
      ]
     },
     "execution_count": 488,
     "metadata": {},
     "output_type": "execute_result"
    }
   ],
   "source": [
    "sum((normalized_df[0] - normalized_df['cosine'])**2) / n"
   ]
  },
  {
   "cell_type": "code",
   "execution_count": 489,
   "metadata": {},
   "outputs": [
    {
     "data": {
      "text/plain": [
       "25.207436882450615"
      ]
     },
     "execution_count": 489,
     "metadata": {},
     "output_type": "execute_result"
    }
   ],
   "source": [
    "sum((normalized_df[0] - normalized_df['wmd_sim'])**2) / n"
   ]
  },
  {
   "cell_type": "markdown",
   "metadata": {},
   "source": [
    "# Plotting"
   ]
  },
  {
   "cell_type": "code",
   "execution_count": 82,
   "metadata": {},
   "outputs": [],
   "source": [
    "import matplotlib.pyplot as plt\n",
    "%matplotlib inline"
   ]
  },
  {
   "cell_type": "code",
   "execution_count": 590,
   "metadata": {},
   "outputs": [
    {
     "data": {
      "image/png": "[encoded data removed]",
      "text/plain": [
       "<Figure size 864x576 with 1 Axes>"
      ]
     },
     "metadata": {
      "needs_background": "light"
     },
     "output_type": "display_data"
    }
   ],
   "source": [
    "# Phrase - Word\n",
    "x = p\n",
    "y5 = phrase_word_top5_mse\n",
    "y10 = phrase_word_top10_mse\n",
    "y20 = phrase_word_top20_mse\n",
    "\n",
    "plt.figure(figsize = (12,8))\n",
    "\n",
    "plt.plot(x,y5, 'o', label = \"k=5\")\n",
    "plt.plot(x,y10, 'o', label = \"k=10\", color = 'g')\n",
    "plt.plot(x,y20, 'o', label = \"k=20\", color = 'r')\n",
    "\n",
    "plt.xticks(fontsize= 20)\n",
    "plt.yticks(fontsize= 20)\n",
    "plt.xlabel(\"Penalty Value (p)\", fontsize = 20)\n",
    "plt.ylabel(\"MSE Compared to True Label\", fontsize = 20)\n",
    "plt.legend(fontsize = 20)\n",
    "plt.grid()"
   ]
  },
  {
   "cell_type": "code",
   "execution_count": 366,
   "metadata": {},
   "outputs": [
    {
     "data": {
      "image/png": "[encoded data removed]",
      "text/plain": [
       "<Figure size 864x576 with 1 Axes>"
      ]
     },
     "metadata": {
      "needs_background": "light"
     },
     "output_type": "display_data"
    }
   ],
   "source": [
    "# Sentence - Phrase\n",
    "x = p\n",
    "y5 = sent_phrase_top5_mse\n",
    "y10 = sent_phrase_top10_mse\n",
    "y20 = sent_phrase_top20_mse\n",
    "\n",
    "plt.figure(figsize = (12,8))\n",
    "\n",
    "plt.plot(x,y5, 'o', label = \"k=5\")\n",
    "plt.plot(x,y10, 'o', label = \"k=10\", color = 'g')\n",
    "plt.plot(x,y20, 'o', label = \"k=20\", color = 'r')\n",
    "\n",
    "plt.xticks(fontsize= 20)\n",
    "plt.yticks(fontsize= 20)\n",
    "plt.xlabel(\"Penalty Value (p)\", fontsize = 20)\n",
    "plt.ylabel(\"MSE Compared to True Label\", fontsize = 20)\n",
    "plt.legend(fontsize = 20)\n",
    "plt.grid()\n"
   ]
  },
  {
   "cell_type": "code",
   "execution_count": 191,
   "metadata": {},
   "outputs": [
    {
     "data": {
      "image/png": "[encoded data removed]",
      "text/plain": [
       "<Figure size 864x576 with 1 Axes>"
      ]
     },
     "metadata": {
      "needs_background": "light"
     },
     "output_type": "display_data"
    }
   ],
   "source": [
    "# Paragraph - Sentence\n",
    "x = p\n",
    "y5 = para_sent_top5_mse\n",
    "y10 = para_sent_top10_mse\n",
    "y20 = para_sent_top20_mse\n",
    "\n",
    "plt.figure(figsize = (12,8))\n",
    "\n",
    "plt.plot(x,y5, 'o', label = \"k=5\")\n",
    "plt.plot(x,y10, 'o', label = \"k=10\", color = 'g')\n",
    "plt.plot(x,y20, 'o', label = \"k=20\", color = 'r')\n",
    "\n",
    "plt.xticks(fontsize= 20)\n",
    "plt.yticks(fontsize= 20)\n",
    "plt.xlabel(\"Penalty Value (p)\", fontsize = 20)\n",
    "plt.ylabel(\"MSE Compared to True Label\", fontsize = 20)\n",
    "plt.legend(fontsize = 20)\n",
    "plt.grid()\n"
   ]
  }
 ],
 "metadata": {
  "kernelspec": {
   "display_name": "nlg",
   "language": "python",
   "name": "nlg"
  },
  "language_info": {
   "codemirror_mode": {
    "name": "ipython",
    "version": 3
   },
   "file_extension": ".py",
   "mimetype": "text/x-python",
   "name": "python",
   "nbconvert_exporter": "python",
   "pygments_lexer": "ipython3",
   "version": "3.6.12"
  }
 },
 "nbformat": 4,
 "nbformat_minor": 4
}
