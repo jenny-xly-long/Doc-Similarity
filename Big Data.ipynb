{
 "cells": [
  {
   "cell_type": "code",
   "execution_count": 1,
   "metadata": {},
   "outputs": [],
   "source": [
    "import gensim.downloader as api\n",
    "model = api.load(\"glove-twitter-25\")\n"
   ]
  },
  {
   "cell_type": "code",
   "execution_count": 2,
   "metadata": {},
   "outputs": [
    {
     "name": "stderr",
     "output_type": "stream",
     "text": [
      "[nltk_data] Downloading package wordnet to\n",
      "[nltk_data]     C:\\Users\\Jenny\\AppData\\Roaming\\nltk_data...\n",
      "[nltk_data]   Package wordnet is already up-to-date!\n"
     ]
    },
    {
     "data": {
      "text/plain": [
       "True"
      ]
     },
     "execution_count": 2,
     "metadata": {},
     "output_type": "execute_result"
    }
   ],
   "source": [
    "import pandas as pd\n",
    "from sklearn.model_selection import train_test_split\n",
    "from gensim.models.doc2vec import Doc2Vec, TaggedDocument\n",
    "from nltk.tokenize import word_tokenize\n",
    "from nltk.corpus import stopwords\n",
    "import re\n",
    "import numpy as np\n",
    "import spacy\n",
    "from tqdm import tqdm\n",
    "from gensim.models import FastText\n",
    "import nltk\n",
    "nltk.download('wordnet')"
   ]
  },
  {
   "cell_type": "code",
   "execution_count": 25,
   "metadata": {},
   "outputs": [],
   "source": [
    "stwords = stopwords.words('english')\n",
    "from nltk.stem import WordNetLemmatizer \n",
    "  \n",
    "lemmatizer = WordNetLemmatizer()\n",
    "def preprocessing(series):\n",
    "    \n",
    "    REPLACE_NO_SPACE = re.compile(\"(\\&)|(\\.)|(\\;)|(\\:)|(\\!)|(\\')|(\\?)|(\\,)|(\\\")|(\\()|(\\))|(\\[)|(\\])\")\n",
    "    REPLACE_WITH_SPACE = re.compile(\"(<br\\s*/><br\\s*/>)|(\\-)|(\\/)\")\n",
    "    processed = [REPLACE_NO_SPACE.sub(\"\", text) for text in series]\n",
    "    processed = [REPLACE_WITH_SPACE.sub(\" \", text) for text in processed]\n",
    "#     processed = [re.sub(r\" ?\\([^)]+\\)\", \"\", text) for text in processed]\n",
    "    \n",
    "    url = re.compile(r'http\\S+')\n",
    "    processed = [url.sub(\"URL.\", text) for text in processed]\n",
    "    processed_sent = []\n",
    "    for p in processed:\n",
    "#         processed_sent.append(' '.join(w for w in p.lower().split() if w not in stwords))\n",
    "        processed_sent.append(' '.join(lemmatizer.lemmatize(w) for w in p.lower().split() if w not in stwords))\n",
    "\n",
    "    return processed_sent\n",
    "    \n",
    "    "
   ]
  },
  {
   "cell_type": "markdown",
   "metadata": {},
   "source": [
    "# Dataset - Paragraph - Sent"
   ]
  },
  {
   "cell_type": "code",
   "execution_count": 26,
   "metadata": {},
   "outputs": [],
   "source": [
    "data1 = pd.read_csv(\"data/training/paragraph2sentence_train_input.tsv\", sep='\\t', header = None)\n",
    "data2 = pd.read_csv(\"data/test/paragraph2sentence.test.input.tsv\", sep='\\t', header = None)\n",
    "data3 = pd.read_csv(\"data/trial/paragraph2sentence.trial.input.tsv\", sep = '\\t', header = None)\n",
    "\n",
    "data = pd.concat([data1, data2, data3], ignore_index = True)\n",
    "\n",
    "\n",
    "key1 = pd.read_csv(\"keys/training/paragraph2sentence.train.gs.tsv\", sep = '\\t', header = None)\n",
    "key2 = pd.read_csv(\"keys/test/paragraph2sentence.test.gs.tsv\", sep = '\\t', header = None)\n",
    "key3 = pd.read_csv(\"keys/trial/paragraph2sentence.trial.gs.tsv\", sep = '\\t', header = None)\n",
    "\n",
    "ground_truth = pd.concat([key1, key2, key3], ignore_index = True)\n",
    "\n",
    "\n",
    "docs = pd.concat([data[0], data[1]],ignore_index=True)\n",
    "docs_half = data[0] \n",
    "query = data[1] \n",
    "\n",
    "processed_docs_half = preprocessing(docs_half)\n",
    "processed_query = preprocessing(query)\n",
    "processed_docs = preprocessing(docs)"
   ]
  },
  {
   "cell_type": "markdown",
   "metadata": {},
   "source": [
    "# Dataset - Sent - Phrase"
   ]
  },
  {
   "cell_type": "code",
   "execution_count": 4,
   "metadata": {},
   "outputs": [],
   "source": [
    "data1 = pd.read_csv(\"data/training/sentence2phrase.train.input.tsv\", sep='\\t', header = None)\n",
    "data2 = pd.read_csv(\"data/test/sentence2phrase.test.input.tsv\", sep='\\t', header = None)\n",
    "data3 = pd.read_csv(\"data/trial/sentence2phrase.trial.input.tsv\", sep='\\t', header = None)\n",
    "\n",
    "\n",
    "data = pd.concat([data1, data2, data3], ignore_index = True)\n",
    "\n",
    "key1 = pd.read_csv(\"keys/training/sentence2phrase.train.gs.tsv\", sep='\\t', header = None)\n",
    "key2 = pd.read_csv(\"keys/test/sentence2phrase.test.gs.tsv\", sep='\\t', header = None)\n",
    "key3 = pd.read_csv(\"keys/trial/sentence2phrase.trial.gs.tsv\", sep='\\t', header = None)\n",
    "\n",
    "ground_truth = pd.concat([key1, key2, key3], ignore_index = True)\n",
    "\n",
    "\n",
    "docs = pd.concat([data[0], data[1]],ignore_index=True)\n",
    "docs_half = data[0] \n",
    "query = data[1] \n",
    "\n",
    "processed_docs_half = preprocessing(docs_half)\n",
    "processed_query = preprocessing(query)\n",
    "processed_docs = preprocessing(docs)"
   ]
  },
  {
   "cell_type": "markdown",
   "metadata": {},
   "source": [
    "# Dataset Phrase - Word"
   ]
  },
  {
   "cell_type": "code",
   "execution_count": 20,
   "metadata": {},
   "outputs": [],
   "source": [
    "data1 = pd.read_csv(\"data/training/phrase2word.train.input.tsv\", sep='\\t', header = None)\n",
    "data2 = pd.read_csv(\"data/test/phrase2word.test.input.tsv\", sep='\\t', header = None)\n",
    "data3 = pd.read_csv(\"data/trial/phrase2word.trial.input.tsv\", sep = '\\t', header = None)\n",
    "\n",
    "data = pd.concat([data1, data2, data3], ignore_index = True)\n",
    "data = data.drop([84,708])\n",
    "\n",
    "key1 = pd.read_csv(\"keys/training/phrase2word.train.gs.tsv\", sep = '\\t', header = None)\n",
    "key2 = pd.read_csv(\"keys/test/phrase2word.test.gs.tsv\", sep = '\\t', header = None)\n",
    "key3 = pd.read_csv(\"keys/trial/phrase2word.trial.gs.tsv\", sep = '\\t', header = None)\n",
    "\n",
    "ground_truth = pd.concat([key1, key2, key3], ignore_index = True)\n",
    "ground_truth = ground_truth.drop([84,708])\n",
    "\n",
    "docs = pd.concat([data[0], data[1]],ignore_index=True)\n",
    "docs_half = data[0] \n",
    "query = data[1] \n",
    "\n",
    "processed_docs_half = preprocessing(docs_half)\n",
    "processed_query = preprocessing(query)\n",
    "processed_docs = preprocessing(docs)"
   ]
  },
  {
   "cell_type": "markdown",
   "metadata": {},
   "source": [
    "# Get Doc/Sentence vector by averaging its word embeddings"
   ]
  },
  {
   "cell_type": "code",
   "execution_count": 27,
   "metadata": {},
   "outputs": [],
   "source": [
    "wordvecs = []\n",
    "for doc in processed_docs:\n",
    "    wordvecs.append([model[word] if word in model else np.zeros(25) for word in doc.split()])\n"
   ]
  },
  {
   "cell_type": "code",
   "execution_count": 28,
   "metadata": {},
   "outputs": [],
   "source": [
    "sentvecs = []\n",
    "for i in range(len(wordvecs)):\n",
    "    sentvecs.append(np.mean(wordvecs[i], axis = 0))"
   ]
  },
  {
   "cell_type": "markdown",
   "metadata": {},
   "source": [
    "# Function Shift"
   ]
  },
  {
   "cell_type": "code",
   "execution_count": 29,
   "metadata": {},
   "outputs": [],
   "source": [
    "# shift the function such at there is no negative values in the vector \n",
    "minV = float('inf')\n",
    "for i in range(len(sentvecs)):\n",
    "    try:\n",
    "        minV = min(min(sentvecs[i]), minV)\n",
    "    except:\n",
    "        print(i,sentvecs[i])\n",
    "\n",
    "for i in range(len(sentvecs)):\n",
    "    sentvecs[i] -= minV"
   ]
  },
  {
   "cell_type": "markdown",
   "metadata": {},
   "source": [
    "# Extended Jaccard"
   ]
  },
  {
   "cell_type": "code",
   "execution_count": 30,
   "metadata": {},
   "outputs": [],
   "source": [
    "from numpy import linalg as LA\n",
    "jaccard = []\n",
    "for i in range(len(data)):\n",
    "    numerator = np.transpose(sentvecs[i]).dot(sentvecs[i+len(data)])\n",
    "    l2norm1sq = (LA.norm(sentvecs[i]))**2\n",
    "    l2norm2sq = (LA.norm(sentvecs[i+len(data)]))**2\n",
    "    jaccard_sim = numerator / (l2norm1sq + l2norm2sq - numerator)\n",
    "    jaccard.append(jaccard_sim)"
   ]
  },
  {
   "cell_type": "markdown",
   "metadata": {},
   "source": [
    "# Cosine"
   ]
  },
  {
   "cell_type": "code",
   "execution_count": 31,
   "metadata": {},
   "outputs": [],
   "source": [
    "from scipy import spatial\n",
    "\n",
    "cos_distance = []\n",
    "for i in range(len(processed_docs_half)):\n",
    "    cos_distance.append(spatial.distance.cosine(sentvecs[i], sentvecs[i+len(data)]))\n"
   ]
  },
  {
   "cell_type": "markdown",
   "metadata": {},
   "source": [
    "# Word-Mover-Distance Based Similarity"
   ]
  },
  {
   "cell_type": "code",
   "execution_count": 32,
   "metadata": {},
   "outputs": [],
   "source": [
    "wmd = []\n",
    "model.init_sims(replace=True)  # Normalizes the vectors in the word2vec class.\n",
    "\n",
    "for i in range(len(processed_docs_half)):\n",
    "    wmd.append(model.wmdistance(processed_docs_half[i].split(), processed_query[i].split()))  # Compute WMD as normal.\n",
    "\n"
   ]
  },
  {
   "cell_type": "code",
   "execution_count": 33,
   "metadata": {},
   "outputs": [],
   "source": [
    "wmd = np.array(wmd)\n",
    "wmd_sim = 1./(1.+ wmd)"
   ]
  },
  {
   "cell_type": "markdown",
   "metadata": {},
   "source": [
    "# Fuzzy-Match Jaccard Similarity"
   ]
  },
  {
   "cell_type": "code",
   "execution_count": 34,
   "metadata": {},
   "outputs": [],
   "source": [
    "query_token = [q.split() for q in processed_query]"
   ]
  },
  {
   "cell_type": "code",
   "execution_count": 35,
   "metadata": {
    "scrolled": true
   },
   "outputs": [],
   "source": [
    "Qset = []\n",
    "count = 0\n",
    "# index = 0\n",
    "# while index < len(query_token):\n",
    "for i in range(len(query_token)):\n",
    "    tkn = query_token[i]\n",
    "    q = []\n",
    "    for t in query_token[i]:\n",
    "        try:\n",
    "            q.extend(model.most_similar(positive = [t], topn=5))\n",
    "#             q.extend(model.most_similar_cosmul(positive = [t], topn = 5))\n",
    "        except KeyError as e:\n",
    "            count += 1\n",
    "            result = re.search(\"\\'(.*)\\'\", str(e))\n",
    "            oov = result.group(1)\n",
    "#             tkn.remove(oov)\n",
    "    for t in tkn:\n",
    "        q.append((t,1))\n",
    "    Qset.append(q)"
   ]
  },
  {
   "cell_type": "code",
   "execution_count": 36,
   "metadata": {},
   "outputs": [],
   "source": [
    "import numpy as np\n",
    "similarity = []\n",
    "ind = []\n",
    "for i in range(len(Qset)):\n",
    "    nn_lst = [tup[0] for tup in Qset[i]]\n",
    "    \n",
    "    processed_tokens = processed_docs_half[i].split()\n",
    "    intersection_len = len(list(set(nn_lst) & set(processed_tokens)))\n",
    "    if len(processed_tokens) != 0:\n",
    "        \n",
    "        similarity.append(intersection_len/ (len(processed_tokens)**0.8))\n",
    "        \n",
    "    else:\n",
    "        ind.append(i)"
   ]
  },
  {
   "cell_type": "code",
   "execution_count": 37,
   "metadata": {},
   "outputs": [],
   "source": [
    "# Calculate standard jaccard similarity\n",
    "std_jaccard = []\n",
    "for i in range(len(processed_docs_half)):\n",
    "    query_tokens = processed_query[i].split()\n",
    "    processed_tokens = processed_docs_half[i].split()\n",
    "\n",
    "    query_tokens.extend(processed_tokens)\n",
    "    intersection_len = len(list(set(query_tokens) & set(processed_tokens)))\n",
    "    union_len = len(list(set(query_tokens)))\n",
    "    \n",
    "    std_jaccard.append(intersection_len/union_len)\n",
    "     "
   ]
  },
  {
   "cell_type": "code",
   "execution_count": 38,
   "metadata": {},
   "outputs": [],
   "source": [
    "ground_truth['ext_jac'] = jaccard\n",
    "ground_truth['cosine'] = cos_distance\n",
    "ground_truth['wmd_sim'] = wmd_sim\n",
    "ground_truth['fuzzy_match'] = similarity\n",
    "ground_truth['std_jaccard'] = std_jaccard\n"
   ]
  },
  {
   "cell_type": "code",
   "execution_count": 39,
   "metadata": {
    "scrolled": true
   },
   "outputs": [],
   "source": [
    "normalized_df=(ground_truth-ground_truth.min())/(ground_truth.max()-ground_truth.min())"
   ]
  },
  {
   "cell_type": "code",
   "execution_count": 40,
   "metadata": {},
   "outputs": [],
   "source": [
    "n = normalized_df.shape[1]"
   ]
  },
  {
   "cell_type": "code",
   "execution_count": 41,
   "metadata": {},
   "outputs": [
    {
     "data": {
      "text/plain": [
       "20.118994911948334"
      ]
     },
     "execution_count": 41,
     "metadata": {},
     "output_type": "execute_result"
    }
   ],
   "source": [
    "sum((normalized_df[0] - normalized_df['fuzzy_match'])**2) / n"
   ]
  },
  {
   "cell_type": "code",
   "execution_count": 42,
   "metadata": {},
   "outputs": [
    {
     "data": {
      "text/plain": [
       "32.257316699081315"
      ]
     },
     "execution_count": 42,
     "metadata": {},
     "output_type": "execute_result"
    }
   ],
   "source": [
    "sum((normalized_df[0] - normalized_df['std_jaccard'])**2) / n"
   ]
  },
  {
   "cell_type": "code",
   "execution_count": 43,
   "metadata": {},
   "outputs": [
    {
     "data": {
      "text/plain": [
       "54.726756964711335"
      ]
     },
     "execution_count": 43,
     "metadata": {},
     "output_type": "execute_result"
    }
   ],
   "source": [
    "sum((normalized_df[0] - normalized_df['ext_jac'])**2) / n"
   ]
  },
  {
   "cell_type": "code",
   "execution_count": 44,
   "metadata": {},
   "outputs": [
    {
     "data": {
      "text/plain": [
       "50.60365117504466"
      ]
     },
     "execution_count": 44,
     "metadata": {},
     "output_type": "execute_result"
    }
   ],
   "source": [
    "sum((normalized_df[0] - normalized_df['cosine'])**2) / n"
   ]
  },
  {
   "cell_type": "code",
   "execution_count": 45,
   "metadata": {},
   "outputs": [
    {
     "data": {
      "text/plain": [
       "16.69676701406039"
      ]
     },
     "execution_count": 45,
     "metadata": {},
     "output_type": "execute_result"
    }
   ],
   "source": [
    "sum((normalized_df[0] - normalized_df['wmd_sim'])**2) / n"
   ]
  },
  {
   "cell_type": "code",
   "execution_count": 27,
   "metadata": {},
   "outputs": [],
   "source": [
    "from gensim.similarities import WmdSimilarity"
   ]
  },
  {
   "cell_type": "code",
   "execution_count": 39,
   "metadata": {},
   "outputs": [],
   "source": [
    "instance = WmdSimilarity(processed_docs_half[1], model, num_best = 1)\n"
   ]
  },
  {
   "cell_type": "code",
   "execution_count": 40,
   "metadata": {},
   "outputs": [],
   "source": [
    "sims = instance[processed_query[1]]"
   ]
  },
  {
   "cell_type": "code",
   "execution_count": 41,
   "metadata": {},
   "outputs": [
    {
     "data": {
      "text/plain": [
       "[(7, 0.6883245118726495)]"
      ]
     },
     "execution_count": 41,
     "metadata": {},
     "output_type": "execute_result"
    }
   ],
   "source": [
    "sims\n"
   ]
  },
  {
   "cell_type": "code",
   "execution_count": null,
   "metadata": {},
   "outputs": [],
   "source": [
    "## import numpy as np\n",
    "similarity = []\n",
    "for i in range(len(Qset)):\n",
    "    sim = []\n",
    "    for j in range(len(processed_docs_half)):\n",
    "        nn_lst = [tup[0] for tup in Qset[i]]\n",
    "        \n",
    "        processed_tokens = processed_docs_half[j].split()\n",
    "\n",
    "        intersection_len = len(list(set(nn_lst) & set(processed_tokens)))\n",
    "        sim.append(intersection_len / (len(nn_lst)))\n",
    "    idx = np.argmax(sim)\n",
    "    simscore = sim[idx]\n",
    "    similarity.append((idx, simscore))"
   ]
  },
  {
   "cell_type": "code",
   "execution_count": 4,
   "metadata": {},
   "outputs": [],
   "source": [
    "tagged_data = [TaggedDocument(words=word_tokenize(_d.lower()), tags=[str(i)]) for i, _d in enumerate(processed_docs)]"
   ]
  },
  {
   "cell_type": "code",
   "execution_count": 139,
   "metadata": {},
   "outputs": [
    {
     "ename": "AttributeError",
     "evalue": "'Word2VecKeyedVectors' object has no attribute 'docvecs'",
     "output_type": "error",
     "traceback": [
      "\u001b[1;31m---------------------------------------------------------------------------\u001b[0m",
      "\u001b[1;31mAttributeError\u001b[0m                            Traceback (most recent call last)",
      "\u001b[1;32m<ipython-input-139-7ce7d13fb47b>\u001b[0m in \u001b[0;36m<module>\u001b[1;34m\u001b[0m\n\u001b[0;32m      3\u001b[0m \u001b[1;32mfor\u001b[0m \u001b[0mi\u001b[0m \u001b[1;32min\u001b[0m \u001b[0mrange\u001b[0m\u001b[1;33m(\u001b[0m\u001b[0mlen\u001b[0m\u001b[1;33m(\u001b[0m\u001b[0mdata\u001b[0m\u001b[1;33m)\u001b[0m\u001b[1;33m)\u001b[0m\u001b[1;33m:\u001b[0m\u001b[1;33m\u001b[0m\u001b[1;33m\u001b[0m\u001b[0m\n\u001b[0;32m      4\u001b[0m \u001b[1;31m#     numerator = np.transpose(model.docvecs[i]).dot(test[i])\u001b[0m\u001b[1;33m\u001b[0m\u001b[1;33m\u001b[0m\u001b[1;33m\u001b[0m\u001b[0m\n\u001b[1;32m----> 5\u001b[1;33m     \u001b[0mnumerator\u001b[0m \u001b[1;33m=\u001b[0m \u001b[0mnp\u001b[0m\u001b[1;33m.\u001b[0m\u001b[0mtranspose\u001b[0m\u001b[1;33m(\u001b[0m\u001b[0mmodel\u001b[0m\u001b[1;33m.\u001b[0m\u001b[0mdocvecs\u001b[0m\u001b[1;33m[\u001b[0m\u001b[0mi\u001b[0m\u001b[1;33m]\u001b[0m\u001b[1;33m)\u001b[0m\u001b[1;33m.\u001b[0m\u001b[0mdot\u001b[0m\u001b[1;33m(\u001b[0m\u001b[0mmodel\u001b[0m\u001b[1;33m.\u001b[0m\u001b[0mdocvecs\u001b[0m\u001b[1;33m[\u001b[0m\u001b[0mi\u001b[0m\u001b[1;33m+\u001b[0m\u001b[1;36m500\u001b[0m\u001b[1;33m]\u001b[0m\u001b[1;33m)\u001b[0m\u001b[1;33m\u001b[0m\u001b[1;33m\u001b[0m\u001b[0m\n\u001b[0m\u001b[0;32m      6\u001b[0m     \u001b[0ml2norm1sq\u001b[0m \u001b[1;33m=\u001b[0m \u001b[1;33m(\u001b[0m\u001b[0mLA\u001b[0m\u001b[1;33m.\u001b[0m\u001b[0mnorm\u001b[0m\u001b[1;33m(\u001b[0m\u001b[0mmodel\u001b[0m\u001b[1;33m.\u001b[0m\u001b[0mdocvecs\u001b[0m\u001b[1;33m[\u001b[0m\u001b[0mi\u001b[0m\u001b[1;33m]\u001b[0m\u001b[1;33m)\u001b[0m\u001b[1;33m)\u001b[0m\u001b[1;33m**\u001b[0m\u001b[1;36m2\u001b[0m\u001b[1;33m\u001b[0m\u001b[1;33m\u001b[0m\u001b[0m\n\u001b[0;32m      7\u001b[0m \u001b[1;31m#     l2norm2sq = (LA.norm(test[i]))**2\u001b[0m\u001b[1;33m\u001b[0m\u001b[1;33m\u001b[0m\u001b[1;33m\u001b[0m\u001b[0m\n",
      "\u001b[1;31mAttributeError\u001b[0m: 'Word2VecKeyedVectors' object has no attribute 'docvecs'"
     ]
    }
   ],
   "source": [
    "from numpy import linalg as LA\n",
    "jaccard = []\n",
    "for i in range(len(data)):\n",
    "#     numerator = np.transpose(model.docvecs[i]).dot(test[i])\n",
    "    numerator = np.transpose(model.docvecs[i]).dot(model.docvecs[i+500])\n",
    "    l2norm1sq = (LA.norm(model.docvecs[i]))**2\n",
    "#     l2norm2sq = (LA.norm(test[i]))**2\n",
    "    l2norm2sq = (LA.norm(model.docvecs[i+500]))**2\n",
    "    jaccard_sim = numerator / (l2norm1sq + l2norm2sq - numerator)\n",
    "    jaccard.append(jaccard_sim)"
   ]
  },
  {
   "cell_type": "code",
   "execution_count": 6,
   "metadata": {},
   "outputs": [],
   "source": [
    "model = Doc2Vec.load(\"d2v.model\")"
   ]
  },
  {
   "cell_type": "code",
   "execution_count": 5,
   "metadata": {},
   "outputs": [
    {
     "name": "stderr",
     "output_type": "stream",
     "text": [
      "C:\\Users\\Jenny\\miniconda3\\envs\\nlg\\lib\\site-packages\\gensim\\models\\doc2vec.py:574: UserWarning: The parameter `size` is deprecated, will be removed in 4.0.0, use `vector_size` instead.\n",
      "  warnings.warn(\"The parameter `size` is deprecated, will be removed in 4.0.0, use `vector_size` instead.\")\n"
     ]
    },
    {
     "name": "stdout",
     "output_type": "stream",
     "text": [
      "iteration 0\n"
     ]
    },
    {
     "name": "stderr",
     "output_type": "stream",
     "text": [
      "C:\\Users\\Jenny\\AppData\\Roaming\\Python\\Python36\\site-packages\\ipykernel_launcher.py:19: DeprecationWarning: Call to deprecated `iter` (Attribute will be removed in 4.0.0, use self.epochs instead).\n"
     ]
    },
    {
     "name": "stdout",
     "output_type": "stream",
     "text": [
      "iteration 1\n",
      "iteration 2\n",
      "iteration 3\n",
      "iteration 4\n",
      "iteration 5\n",
      "iteration 6\n",
      "iteration 7\n",
      "iteration 8\n",
      "iteration 9\n",
      "iteration 10\n",
      "iteration 11\n",
      "iteration 12\n",
      "iteration 13\n",
      "iteration 14\n",
      "iteration 15\n",
      "iteration 16\n",
      "iteration 17\n",
      "iteration 18\n",
      "iteration 19\n",
      "iteration 20\n",
      "iteration 21\n",
      "iteration 22\n",
      "iteration 23\n",
      "iteration 24\n",
      "iteration 25\n",
      "iteration 26\n",
      "iteration 27\n",
      "iteration 28\n",
      "iteration 29\n",
      "iteration 30\n",
      "iteration 31\n",
      "iteration 32\n",
      "iteration 33\n",
      "iteration 34\n",
      "iteration 35\n",
      "iteration 36\n",
      "iteration 37\n",
      "iteration 38\n",
      "iteration 39\n",
      "iteration 40\n",
      "iteration 41\n",
      "iteration 42\n",
      "iteration 43\n",
      "iteration 44\n",
      "iteration 45\n",
      "iteration 46\n",
      "iteration 47\n",
      "iteration 48\n",
      "iteration 49\n",
      "iteration 50\n",
      "iteration 51\n",
      "iteration 52\n",
      "iteration 53\n",
      "iteration 54\n",
      "iteration 55\n",
      "iteration 56\n",
      "iteration 57\n",
      "iteration 58\n",
      "iteration 59\n",
      "iteration 60\n",
      "iteration 61\n",
      "iteration 62\n",
      "iteration 63\n",
      "iteration 64\n",
      "iteration 65\n",
      "iteration 66\n",
      "iteration 67\n",
      "iteration 68\n",
      "iteration 69\n",
      "iteration 70\n",
      "iteration 71\n",
      "iteration 72\n",
      "iteration 73\n",
      "iteration 74\n",
      "iteration 75\n",
      "iteration 76\n",
      "iteration 77\n",
      "iteration 78\n",
      "iteration 79\n",
      "iteration 80\n",
      "iteration 81\n",
      "iteration 82\n",
      "iteration 83\n",
      "iteration 84\n",
      "iteration 85\n",
      "iteration 86\n",
      "iteration 87\n",
      "iteration 88\n",
      "iteration 89\n",
      "iteration 90\n",
      "iteration 91\n",
      "iteration 92\n",
      "iteration 93\n",
      "iteration 94\n",
      "iteration 95\n",
      "iteration 96\n",
      "iteration 97\n",
      "iteration 98\n",
      "iteration 99\n"
     ]
    }
   ],
   "source": [
    "# Doc2Vec\n",
    "\n",
    "max_epochs = 20\n",
    "vec_size = 25\n",
    "alpha = 0.025\n",
    "    \n",
    "model = Doc2Vec(size=vec_size,\n",
    "                alpha=alpha, \n",
    "                min_alpha=0.00025,\n",
    "                min_count=1,\n",
    "                dm =1)\n",
    "\n",
    "model.build_vocab(tagged_data)\n",
    "\n",
    "for epoch in range(max_epochs):\n",
    "    print('iteration {0}'.format(epoch))\n",
    "    model.train(tagged_data,\n",
    "                total_examples=model.corpus_count,\n",
    "                epochs=model.iter)\n",
    "    # decrease the learning rate\n",
    "    model.alpha -= 0.0002\n",
    "    # fix the learning rate, no decay\n",
    "    model.min_alpha = model.alpha\n",
    "\n",
    "model.save(\"d2v.model\")\n"
   ]
  },
  {
   "cell_type": "code",
   "execution_count": 235,
   "metadata": {},
   "outputs": [
    {
     "ename": "AttributeError",
     "evalue": "'Word2VecKeyedVectors' object has no attribute 'docvecs'",
     "output_type": "error",
     "traceback": [
      "\u001b[1;31m---------------------------------------------------------------------------\u001b[0m",
      "\u001b[1;31mAttributeError\u001b[0m                            Traceback (most recent call last)",
      "\u001b[1;32m<ipython-input-235-9203a4bf2825>\u001b[0m in \u001b[0;36m<module>\u001b[1;34m\u001b[0m\n\u001b[0;32m      2\u001b[0m \u001b[0mminV\u001b[0m \u001b[1;33m=\u001b[0m \u001b[0mfloat\u001b[0m\u001b[1;33m(\u001b[0m\u001b[1;34m'inf'\u001b[0m\u001b[1;33m)\u001b[0m\u001b[1;33m\u001b[0m\u001b[1;33m\u001b[0m\u001b[0m\n\u001b[0;32m      3\u001b[0m \u001b[0mminTest\u001b[0m \u001b[1;33m=\u001b[0m \u001b[0mfloat\u001b[0m\u001b[1;33m(\u001b[0m\u001b[1;34m'inf'\u001b[0m\u001b[1;33m)\u001b[0m\u001b[1;33m\u001b[0m\u001b[1;33m\u001b[0m\u001b[0m\n\u001b[1;32m----> 4\u001b[1;33m \u001b[1;32mfor\u001b[0m \u001b[0mi\u001b[0m \u001b[1;32min\u001b[0m \u001b[0mrange\u001b[0m\u001b[1;33m(\u001b[0m\u001b[0mlen\u001b[0m\u001b[1;33m(\u001b[0m\u001b[0mmodel\u001b[0m\u001b[1;33m.\u001b[0m\u001b[0mdocvecs\u001b[0m\u001b[1;33m)\u001b[0m\u001b[1;33m)\u001b[0m\u001b[1;33m:\u001b[0m\u001b[1;33m\u001b[0m\u001b[1;33m\u001b[0m\u001b[0m\n\u001b[0m\u001b[0;32m      5\u001b[0m     \u001b[0mminV\u001b[0m \u001b[1;33m=\u001b[0m \u001b[0mmin\u001b[0m\u001b[1;33m(\u001b[0m\u001b[0mmin\u001b[0m\u001b[1;33m(\u001b[0m\u001b[0mmodel\u001b[0m\u001b[1;33m.\u001b[0m\u001b[0mdocvecs\u001b[0m\u001b[1;33m[\u001b[0m\u001b[0mi\u001b[0m\u001b[1;33m]\u001b[0m\u001b[1;33m)\u001b[0m\u001b[1;33m,\u001b[0m \u001b[0mminV\u001b[0m\u001b[1;33m)\u001b[0m\u001b[1;33m\u001b[0m\u001b[1;33m\u001b[0m\u001b[0m\n\u001b[0;32m      6\u001b[0m \u001b[1;33m\u001b[0m\u001b[0m\n",
      "\u001b[1;31mAttributeError\u001b[0m: 'Word2VecKeyedVectors' object has no attribute 'docvecs'"
     ]
    }
   ],
   "source": [
    "# shift the function such at there is no negative values in the vector \n",
    "minV = float('inf')\n",
    "minTest = float('inf')\n",
    "for i in range(len(model.docvecs)):\n",
    "    minV = min(min(model.docvecs[i]), minV)\n",
    "\n",
    "for i in range(len(model.docvecs)):\n",
    "    model.docvecs[i] -= minV"
   ]
  }
 ],
 "metadata": {
  "kernelspec": {
   "display_name": "nlg",
   "language": "python",
   "name": "nlg"
  },
  "language_info": {
   "codemirror_mode": {
    "name": "ipython",
    "version": 3
   },
   "file_extension": ".py",
   "mimetype": "text/x-python",
   "name": "python",
   "nbconvert_exporter": "python",
   "pygments_lexer": "ipython3",
   "version": "3.6.12"
  }
 },
 "nbformat": 4,
 "nbformat_minor": 4
}
